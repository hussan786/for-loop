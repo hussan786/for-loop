{
  "nbformat": 4,
  "nbformat_minor": 0,
  "metadata": {
    "colab": {
      "provenance": []
    },
    "kernelspec": {
      "name": "python3",
      "display_name": "Python 3"
    },
    "language_info": {
      "name": "python"
    }
  },
  "cells": [
    {
      "cell_type": "code",
      "execution_count": 1,
      "metadata": {
        "colab": {
          "base_uri": "https://localhost:8080/"
        },
        "id": "7UZSEeFqiEPk",
        "outputId": "1a830fc8-b96d-4a2b-a0c3-5a5c2c178b15"
      },
      "outputs": [
        {
          "output_type": "stream",
          "name": "stdout",
          "text": [
            "a\n",
            "B\n",
            "C\n",
            "D\n",
            "E\n"
          ]
        }
      ],
      "source": [
        "alphabets=[\"a\",\"B\",\"C\",\"D\",\"E\"]\n",
        "for x in alphabets:\n",
        "  print(x)"
      ]
    },
    {
      "cell_type": "code",
      "source": [
        "colors=[\"red\",\"green\",\"white\",\"blue\",\"black\"]\n",
        "for y in colors:\n",
        "  print(y)"
      ],
      "metadata": {
        "colab": {
          "base_uri": "https://localhost:8080/"
        },
        "id": "c--9ga3HjsnB",
        "outputId": "72a06fd5-fcfe-40e0-fd19-9af32325a174"
      },
      "execution_count": 2,
      "outputs": [
        {
          "output_type": "stream",
          "name": "stdout",
          "text": [
            "red\n",
            "green\n",
            "white\n",
            "blue\n",
            "black\n"
          ]
        }
      ]
    },
    {
      "cell_type": "code",
      "source": [
        "fruits=[\"apple\",\"banana\",\"pine apple\",\"grapes\",\"mango\"]\n",
        "for F in fruits:\n",
        "  print(F)"
      ],
      "metadata": {
        "colab": {
          "base_uri": "https://localhost:8080/"
        },
        "id": "Fx25kBDlk6JC",
        "outputId": "2b81e892-7108-4551-dc12-5c98a99493cc"
      },
      "execution_count": 3,
      "outputs": [
        {
          "output_type": "stream",
          "name": "stdout",
          "text": [
            "apple\n",
            "banana\n",
            "pine apple\n",
            "grapes\n",
            "mango\n"
          ]
        }
      ]
    },
    {
      "cell_type": "code",
      "source": [
        "for count in range(40,60):\n",
        "  print(count)"
      ],
      "metadata": {
        "colab": {
          "base_uri": "https://localhost:8080/"
        },
        "id": "gz4jBnDwlSZJ",
        "outputId": "c72320f3-b5ad-4e41-c82a-0cb47cc9aef0"
      },
      "execution_count": 4,
      "outputs": [
        {
          "output_type": "stream",
          "name": "stdout",
          "text": [
            "40\n",
            "41\n",
            "42\n",
            "43\n",
            "44\n",
            "45\n",
            "46\n",
            "47\n",
            "48\n",
            "49\n",
            "50\n",
            "51\n",
            "52\n",
            "53\n",
            "54\n",
            "55\n",
            "56\n",
            "57\n",
            "58\n",
            "59\n"
          ]
        }
      ]
    },
    {
      "cell_type": "code",
      "source": [
        "for x in range (3):\n",
        " print(x)"
      ],
      "metadata": {
        "colab": {
          "base_uri": "https://localhost:8080/"
        },
        "id": "YwJJDV_qmBZR",
        "outputId": "662d2f18-20c7-408e-db2c-b980a7050c9b"
      },
      "execution_count": 7,
      "outputs": [
        {
          "output_type": "stream",
          "name": "stdout",
          "text": [
            "0\n",
            "1\n",
            "2\n"
          ]
        }
      ]
    },
    {
      "cell_type": "code",
      "source": [
        "#continue statement\n",
        "birds = [\"sparrow\", \"crow\", \"parrot\"]\n",
        "for x in birds:\n",
        "  if x == \"crow\":\n",
        "    continue\n",
        "  print(x)"
      ],
      "metadata": {
        "colab": {
          "base_uri": "https://localhost:8080/"
        },
        "id": "teT-MNrimR3w",
        "outputId": "5c730b40-2928-484d-81f7-7b983d6ce783"
      },
      "execution_count": 8,
      "outputs": [
        {
          "output_type": "stream",
          "name": "stdout",
          "text": [
            "sparrow\n",
            "parrot\n"
          ]
        }
      ]
    },
    {
      "cell_type": "code",
      "source": [
        "#break in loop\n",
        "books = [\"c++\", \"c#\", \"php\",\"python\",\"oop\"]\n",
        "for x in books:\n",
        "  if x == \"python\":\n",
        "    break\n",
        "  print(x)"
      ],
      "metadata": {
        "colab": {
          "base_uri": "https://localhost:8080/"
        },
        "id": "AFfSJHVbnj3p",
        "outputId": "17867098-c4f6-48d5-ab72-e288c611bf5a"
      },
      "execution_count": 9,
      "outputs": [
        {
          "output_type": "stream",
          "name": "stdout",
          "text": [
            "c++\n",
            "c#\n",
            "php\n"
          ]
        }
      ]
    },
    {
      "cell_type": "code",
      "source": [
        "for x in range(3,30,5):\n",
        "  print(x)"
      ],
      "metadata": {
        "colab": {
          "base_uri": "https://localhost:8080/"
        },
        "id": "EyiZCLE-oFyR",
        "outputId": "1d512858-84d7-4fdd-fb3a-5eb16e09b24e"
      },
      "execution_count": 10,
      "outputs": [
        {
          "output_type": "stream",
          "name": "stdout",
          "text": [
            "3\n",
            "8\n",
            "13\n",
            "18\n",
            "23\n",
            "28\n"
          ]
        }
      ]
    },
    {
      "cell_type": "code",
      "source": [
        "vehicles=[\"car\",\"truck\",'bus']\n",
        "city=[\"multan\",\"lahore\",\"karachi\",\"islamabad\"]\n",
        "for x in vehicles:\n",
        " for y in city:\n",
        "\n",
        "  print(x,y)"
      ],
      "metadata": {
        "colab": {
          "base_uri": "https://localhost:8080/"
        },
        "id": "TAr-ziCKoUGB",
        "outputId": "9fb2ba77-47c8-4f2e-cd14-06694112c657"
      },
      "execution_count": 12,
      "outputs": [
        {
          "output_type": "stream",
          "name": "stdout",
          "text": [
            "car multan\n",
            "car lahore\n",
            "car karachi\n",
            "car islamabad\n",
            "truck multan\n",
            "truck lahore\n",
            "truck karachi\n",
            "truck islamabad\n",
            "bus multan\n",
            "bus lahore\n",
            "bus karachi\n",
            "bus islamabad\n"
          ]
        }
      ]
    },
    {
      "cell_type": "code",
      "source": [
        "for x in range(7):\n",
        "  if x==5:\n",
        "   print(x)"
      ],
      "metadata": {
        "colab": {
          "base_uri": "https://localhost:8080/"
        },
        "id": "x8iapUB4pe4J",
        "outputId": "e17e58ec-7d13-42bd-b975-57e7f0520d8e"
      },
      "execution_count": 16,
      "outputs": [
        {
          "output_type": "stream",
          "name": "stdout",
          "text": [
            "5\n"
          ]
        }
      ]
    },
    {
      "cell_type": "code",
      "source": [
        "for x in range(4):\n",
        "  if x==10:\n",
        "   print(x)\n",
        "else:\n",
        "  print(\"Finally finished!\")"
      ],
      "metadata": {
        "colab": {
          "base_uri": "https://localhost:8080/"
        },
        "id": "H0O5LpJYpwRp",
        "outputId": "68755170-e4a1-4cce-9030-906af71b450d"
      },
      "execution_count": 15,
      "outputs": [
        {
          "output_type": "stream",
          "name": "stdout",
          "text": [
            "Finally finished!\n"
          ]
        }
      ]
    },
    {
      "cell_type": "code",
      "source": [
        "days=[\"monday\",\"tuesday\",\"friday\",\"sunday\"]\n",
        "for x in days:\n",
        "  if x==\"friday\":\n",
        "    break\n",
        "  print(x)"
      ],
      "metadata": {
        "colab": {
          "base_uri": "https://localhost:8080/"
        },
        "id": "WOmLyuVBqf-p",
        "outputId": "790ad635-2601-4a0f-b89a-19515fe9fc8d"
      },
      "execution_count": 17,
      "outputs": [
        {
          "output_type": "stream",
          "name": "stdout",
          "text": [
            "monday\n",
            "tuesday\n"
          ]
        }
      ]
    },
    {
      "cell_type": "code",
      "source": [
        "days=[\"monday\",\"tuesday\",\"friday\",\"sunday\"]\n",
        "for x in days:\n",
        "  if x==\"friday\":\n",
        "    continue\n",
        "  print(x)"
      ],
      "metadata": {
        "colab": {
          "base_uri": "https://localhost:8080/"
        },
        "id": "dQh9QEGyrEc4",
        "outputId": "c564237e-a80a-420e-e37f-361b6b4adfe3"
      },
      "execution_count": 18,
      "outputs": [
        {
          "output_type": "stream",
          "name": "stdout",
          "text": [
            "monday\n",
            "tuesday\n",
            "sunday\n"
          ]
        }
      ]
    }
  ]
}